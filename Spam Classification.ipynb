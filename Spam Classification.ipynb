{
 "cells": [
  {
   "cell_type": "markdown",
   "metadata": {},
   "source": [
    "# Spam Classification"
   ]
  },
  {
   "cell_type": "code",
   "execution_count": 4,
   "metadata": {},
   "outputs": [],
   "source": [
    "import numpy as np"
   ]
  },
  {
   "cell_type": "code",
   "execution_count": 5,
   "metadata": {},
   "outputs": [
    {
     "name": "stdout",
     "output_type": "stream",
     "text": [
      "Data layout:  (4601, 58)\n",
      "A single sample:  [  0.      0.64    0.64    0.      0.32    0.      0.      0.      0.\n",
      "   0.      0.      0.64    0.      0.      0.      0.32    0.      1.29\n",
      "   1.93    0.      0.96    0.      0.      0.      0.      0.      0.\n",
      "   0.      0.      0.      0.      0.      0.      0.      0.      0.\n",
      "   0.      0.      0.      0.      0.      0.      0.      0.      0.\n",
      "   0.      0.      0.      0.      0.      0.      0.778   0.      0.\n",
      "   3.756  61.    278.      1.   ]\n"
     ]
    }
   ],
   "source": [
    "data = np.loadtxt('./spambase/spambase.data', delimiter=',')\n",
    "print(\"Data layout: \", data.shape)\n",
    "print(\"A single sample: \", data[0])"
   ]
  },
  {
   "cell_type": "markdown",
   "metadata": {},
   "source": [
    "We will split X and Y labels \n",
    "\n",
    "Here label 1 : Spam\n",
    "           0 : Not Spam"
   ]
  },
  {
   "cell_type": "code",
   "execution_count": 6,
   "metadata": {},
   "outputs": [],
   "source": [
    "X = data[:,0:-1]\n",
    "Y = data[:,-1]"
   ]
  },
  {
   "cell_type": "code",
   "execution_count": 7,
   "metadata": {},
   "outputs": [],
   "source": [
    "#Split Train data into 10- folds\n",
    "from sklearn.model_selection import KFold\n",
    "no_of_folds = 10\n",
    "kf = KFold(n_splits=no_of_folds, shuffle = False) #Splits data into 10 folds and do not shuffle data before splitting\n",
    "\n",
    "    "
   ]
  },
  {
   "cell_type": "code",
   "execution_count": 19,
   "metadata": {},
   "outputs": [],
   "source": [
    "#Create Multinomial Naive Bayes model\n",
    "\n",
    "from sklearn.naive_bayes import MultinomialNB\n",
    "\n",
    "model = MultinomialNB(alpha=1, fit_prior = True) #alpha : laplace smoothing parameter to handle unseen test data, fit_prior to learn class prior probabilities\n",
    "i = 1\n",
    "result = []\n",
    "running_sum_accuracy = 0\n",
    "running_sum_fp = 0\n",
    "running_sum_fn = 0\n",
    "running_sum_not_spam_count = 0\n",
    "running_sum_spam_count = 0\n",
    "\n",
    "for train_index, test_index in kf.split(X): #train_index and test_index contains list of indices pointing to data in X\n",
    "    X_train, X_test = X[train_index], X[test_index]\n",
    "    y_train, y_test = Y[train_index], Y[test_index]\n",
    "    \n",
    "    model.fit(X_train, y_train) #Learn the conditional probabilties P(word|class) from the train data\n",
    "    predicted_labels = model.predict(X_test) #Predicts probability of each instance belonging to class Spam or Not Spam\n",
    "    FP = np.sum(np.logical_and(predicted_labels == 1, y_test == 0)) #False Positiveis number of emails incorrectly classifies as Spam\n",
    "    FN = np.sum(np.logical_and(predicted_labels == 0, y_test == 1)) #False Negative is number of emails incorrectly clsssified as Not Spam\n",
    "    OER = (FP + FN)/len(y_test) #Overall Error Rate(OER) : %age of total examples that were misclassified\n",
    "    result.append([i,FP,FN,OER])\n",
    "    \n",
    "    #For Averaging results\n",
    "    running_sum_accuracy += OER \n",
    "    running_sum_fp += FP\n",
    "    running_sum_fn += FN\n",
    "    running_sum_not_spam_count += np.sum(y_test == 0)\n",
    "    running_sum_spam_count += np.sum(y_test == 1)\n",
    "    \n",
    "    i+=1\n",
    "result.append([\"Average Rate\", running_sum_fp/running_sum_not_spam_count,running_sum_fn/running_sum_spam_count, running_sum_accuracy/no_of_folds])\n",
    "\n",
    "\n"
   ]
  },
  {
   "cell_type": "code",
   "execution_count": 20,
   "metadata": {},
   "outputs": [
    {
     "data": {
      "text/html": [
       "<div>\n",
       "<style scoped>\n",
       "    .dataframe tbody tr th:only-of-type {\n",
       "        vertical-align: middle;\n",
       "    }\n",
       "\n",
       "    .dataframe tbody tr th {\n",
       "        vertical-align: top;\n",
       "    }\n",
       "\n",
       "    .dataframe thead th {\n",
       "        text-align: right;\n",
       "    }\n",
       "</style>\n",
       "<table border=\"1\" class=\"dataframe\">\n",
       "  <thead>\n",
       "    <tr style=\"text-align: right;\">\n",
       "      <th></th>\n",
       "      <th>False Positive</th>\n",
       "      <th>False Negative</th>\n",
       "      <th>Overall Error Rate</th>\n",
       "    </tr>\n",
       "    <tr>\n",
       "      <th>Fold</th>\n",
       "      <th></th>\n",
       "      <th></th>\n",
       "      <th></th>\n",
       "    </tr>\n",
       "  </thead>\n",
       "  <tbody>\n",
       "    <tr>\n",
       "      <th>1</th>\n",
       "      <td>0.000000</td>\n",
       "      <td>160.000000</td>\n",
       "      <td>0.347072</td>\n",
       "    </tr>\n",
       "    <tr>\n",
       "      <th>2</th>\n",
       "      <td>0.000000</td>\n",
       "      <td>108.000000</td>\n",
       "      <td>0.234783</td>\n",
       "    </tr>\n",
       "    <tr>\n",
       "      <th>3</th>\n",
       "      <td>0.000000</td>\n",
       "      <td>126.000000</td>\n",
       "      <td>0.273913</td>\n",
       "    </tr>\n",
       "    <tr>\n",
       "      <th>4</th>\n",
       "      <td>5.000000</td>\n",
       "      <td>141.000000</td>\n",
       "      <td>0.317391</td>\n",
       "    </tr>\n",
       "    <tr>\n",
       "      <th>5</th>\n",
       "      <td>64.000000</td>\n",
       "      <td>0.000000</td>\n",
       "      <td>0.139130</td>\n",
       "    </tr>\n",
       "    <tr>\n",
       "      <th>6</th>\n",
       "      <td>58.000000</td>\n",
       "      <td>0.000000</td>\n",
       "      <td>0.126087</td>\n",
       "    </tr>\n",
       "    <tr>\n",
       "      <th>7</th>\n",
       "      <td>57.000000</td>\n",
       "      <td>0.000000</td>\n",
       "      <td>0.123913</td>\n",
       "    </tr>\n",
       "    <tr>\n",
       "      <th>8</th>\n",
       "      <td>85.000000</td>\n",
       "      <td>0.000000</td>\n",
       "      <td>0.184783</td>\n",
       "    </tr>\n",
       "    <tr>\n",
       "      <th>9</th>\n",
       "      <td>57.000000</td>\n",
       "      <td>0.000000</td>\n",
       "      <td>0.123913</td>\n",
       "    </tr>\n",
       "    <tr>\n",
       "      <th>10</th>\n",
       "      <td>168.000000</td>\n",
       "      <td>0.000000</td>\n",
       "      <td>0.365217</td>\n",
       "    </tr>\n",
       "    <tr>\n",
       "      <th>Average Rate</th>\n",
       "      <td>0.177188</td>\n",
       "      <td>0.295091</td>\n",
       "      <td>0.223620</td>\n",
       "    </tr>\n",
       "  </tbody>\n",
       "</table>\n",
       "</div>"
      ],
      "text/plain": [
       "              False Positive  False Negative  Overall Error Rate\n",
       "Fold                                                            \n",
       "1                   0.000000      160.000000            0.347072\n",
       "2                   0.000000      108.000000            0.234783\n",
       "3                   0.000000      126.000000            0.273913\n",
       "4                   5.000000      141.000000            0.317391\n",
       "5                  64.000000        0.000000            0.139130\n",
       "6                  58.000000        0.000000            0.126087\n",
       "7                  57.000000        0.000000            0.123913\n",
       "8                  85.000000        0.000000            0.184783\n",
       "9                  57.000000        0.000000            0.123913\n",
       "10                168.000000        0.000000            0.365217\n",
       "Average Rate        0.177188        0.295091            0.223620"
      ]
     },
     "execution_count": 20,
     "metadata": {},
     "output_type": "execute_result"
    }
   ],
   "source": [
    "#Printing the results\n",
    "import pandas as pd\n",
    "df = pd.DataFrame(result, columns = [\"Fold\",\"False Positive\", \"False Negative\", \"Overall Error Rate\"])\n",
    "df.set_index('Fold', inplace=True)\n",
    "df"
   ]
  }
 ],
 "metadata": {
  "kernelspec": {
   "display_name": "Python 3",
   "language": "python",
   "name": "python3"
  },
  "language_info": {
   "codemirror_mode": {
    "name": "ipython",
    "version": 3
   },
   "file_extension": ".py",
   "mimetype": "text/x-python",
   "name": "python",
   "nbconvert_exporter": "python",
   "pygments_lexer": "ipython3",
   "version": "3.6.5"
  }
 },
 "nbformat": 4,
 "nbformat_minor": 2
}
